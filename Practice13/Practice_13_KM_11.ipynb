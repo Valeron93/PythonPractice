{
  "cells": [
    {
      "cell_type": "markdown",
      "metadata": {
        "id": "FMqboNwO4rVs"
      },
      "source": [
        "# **Курс \"Програмування на мові Python\"**"
      ]
    },
    {
      "cell_type": "markdown",
      "metadata": {
        "id": "A2T6MigL5Z06"
      },
      "source": [
        "## **Практичне зайняття №13**\n",
        "\n",
        "### Тема: \"Робота з файлами\""
      ]
    },
    {
      "cell_type": "markdown",
      "metadata": {
        "id": "cfCdgK2zXm7e"
      },
      "source": [
        "### **Завдання 1 (1,5 бали)**\n",
        "\n",
        "У 1939 році друком вийшов роман американського письменика Ернеста Вінсента Райта \"Ґетсбі\". Особливу увагу публіки він здобув через те, що письменник жодного разу не використав у романі літеру \"e\" (роман складається з більше ніж 50,000 слів), яка є найбільш вживаною літерою в англійській мові.\n",
        "\n",
        "Порахуйте кількість входжень кожної літери у текст роману. Виведіть список літер англійського алфавіту, а також інформацію про те, скільки відсотків від усіх літер тексту складає кожна літера алфавіту.\n",
        "\n",
        "Зауваження:\n",
        "\n",
        "1. Програма має ігнорувати будь-які символи, окрім літер.\n",
        "\n",
        "2. Переведіть усі літери у верхній або у нижній регістр.\n",
        "\n",
        "3. Під час виведення відсортуйте літери у порядку зменшення їхнього відсотка. Літера \"e\" має стояти на останньому місці у цьому списку (хоча кілька літер e там все ж таки зустрічається).\n",
        "\n",
        "4. Виведіть перші 5 та останні 5 літер відсортованого списку разом з відсотковими значеннями, що їм відповідають. Відсотки округліть до тисячних."
      ]
    },
    {
      "cell_type": "code",
      "execution_count": 60,
      "metadata": {
        "id": "u4-fHJJ6U462",
        "tags": [
          "outputPrepend"
        ]
      },
      "outputs": [
        {
          "name": "stdout",
          "output_type": "stream",
          "text": [
            "a - 10.952%\n",
            "o - 10.419%\n",
            "i -  8.826%\n",
            "n -  8.597%\n",
            "t -  8.494%\n",
            "\n",
            "j -  0.230%\n",
            "z -  0.107%\n",
            "x -  0.079%\n",
            "q -  0.051%\n",
            "e -  0.002%\n"
          ]
        }
      ],
      "source": [
        "import string\n",
        "\n",
        "data = []\n",
        "\n",
        "with open('gadsby.txt', 'r') as file:\n",
        "    data = [*''.join(file.readlines()[114:])]\n",
        "\n",
        "data = [i.lower() for i in data if i.isalpha()]\n",
        "\n",
        "count = len(data)\n",
        "\n",
        "occurrences = dict()\n",
        "for char in string.ascii_lowercase:\n",
        "    occurrences[char] = data.count(char)\n",
        "\n",
        "sorted_occurences = sorted(occurrences.items(), key= lambda a: a[1], reverse = True)\n",
        "\n",
        "percent = lambda a: (a[1] / count) * 100\n",
        "\n",
        "for elem in sorted_occurences[:5]:\n",
        "    print(f'{elem[0]} - {percent(elem):6.3f}%')\n",
        "\n",
        "print()\n",
        "\n",
        "for elem in sorted_occurences[-5:]:\n",
        "    print(f'{elem[0]} - {percent(elem):6.3f}%')\n"
      ]
    },
    {
      "cell_type": "markdown",
      "metadata": {
        "id": "A34oz70eU463"
      },
      "source": [
        "### **Завдання 2 (1,5 бали)**\n",
        "\n",
        "Архів archive.zip містить 140 txt-файлів, в яких збережено інфорамцію про те, якими іменами називали дітей у США в період з 1880 по 2019 рік.\n",
        "\n",
        "Структура рядка кожного файлу така:\n",
        "\n",
        "*name,sex,number_of_occurrences*\n",
        "\n",
        "Напишіть програму, яка зчитуватиме кожен файл та визначатиме окремо чоловічі, окремо жіночі імена, що були найпопулярнішими хоча б в один з років. Далі програма повинна підраховувати, скільки разів кожне з цих імен ставало найпопулярнишим, та виводити ранжовані списки чоловічіх та жіночих імен у вигляді:\n",
        "\n",
        "```\n",
        "Michael 44\n",
        "John 44\n",
        "Robert 17\n",
        "...\n",
        "\n",
        "Mary 76\n",
        "Jennifer 15\n",
        "Emily 12\n",
        "...\n",
        "```"
      ]
    },
    {
      "cell_type": "code",
      "execution_count": 5,
      "metadata": {},
      "outputs": [
        {
          "name": "stdout",
          "output_type": "stream",
          "text": [
            "David 1\n",
            "Liam 3\n",
            "Noah 4\n",
            "James 13\n",
            "Jacob 14\n",
            "Robert 17\n",
            "John 44\n",
            "Michael 44\n",
            "Olivia 1\n",
            "Ashley 2\n",
            "Isabella 2\n",
            "Sophia 3\n",
            "Linda 6\n",
            "Emma 6\n",
            "Lisa 8\n",
            "Jessica 9\n",
            "Emily 12\n",
            "Jennifer 15\n",
            "Mary 76\n"
          ]
        }
      ],
      "source": [
        "import os\n",
        "\n",
        "file_list = os.listdir('names')\n",
        "\n",
        "males = dict()\n",
        "females = dict()\n",
        "\n",
        "def max_from_file(path):\n",
        "    names = []\n",
        "    with open('names\\\\'+ path, 'r') as file:\n",
        "        data = [i.replace('\\n', '') for i in file.readlines()]\n",
        "        for i in data:\n",
        "            (n,s,o) = i.split(',')\n",
        "            names.append((n,s,int(o)))\n",
        "    return max(filter(lambda a: a[1] == 'M', names), key = lambda a: a[2])[0], \\\n",
        "           max(filter(lambda a: a[1] == 'F', names), key = lambda a: a[2])[0]\n",
        "\n",
        "\n",
        "for path in file_list:\n",
        "    m, f = max_from_file(path)\n",
        "    if m in males.keys():\n",
        "        males[m] += 1\n",
        "    else:\n",
        "        males[m] = 1\n",
        "\n",
        "    if f in females.keys():\n",
        "        females[f] += 1\n",
        "    else:\n",
        "        females[f] = 1\n",
        "\n",
        "sorted_males = sorted(males.items(), key=lambda a: a[1], reverse=True)\n",
        "sorted_females = sorted(females.items(), key=lambda a: a[1], reverse=True)\n",
        "\n",
        "for name, occurrences in sorted_males:\n",
        "    print(f'{name} {occurrences}')\n",
        "\n",
        "for name, occurrences in sorted_females:\n",
        "    print(f'{name} {occurrences}')\n"
      ]
    }
  ],
  "metadata": {
    "colab": {
      "collapsed_sections": [],
      "name": "Practice_14_KM_01.ipynb",
      "provenance": []
    },
    "kernelspec": {
      "display_name": "Python 3",
      "name": "python3"
    },
    "language_info": {
      "codemirror_mode": {
        "name": "ipython",
        "version": 3
      },
      "file_extension": ".py",
      "mimetype": "text/x-python",
      "name": "python",
      "nbconvert_exporter": "python",
      "pygments_lexer": "ipython3",
      "version": "3.10.0"
    }
  },
  "nbformat": 4,
  "nbformat_minor": 0
}
