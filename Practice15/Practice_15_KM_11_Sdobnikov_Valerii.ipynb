{
  "cells": [
    {
      "cell_type": "markdown",
      "metadata": {
        "id": "FMqboNwO4rVs"
      },
      "source": [
        "# **Курс \"Програмування на мові Python\"**"
      ]
    },
    {
      "cell_type": "markdown",
      "metadata": {
        "id": "A2T6MigL5Z06"
      },
      "source": [
        "## **Практичне зайняття №15**\n",
        "\n",
        "### Тема: \"Ітератори та генератори\""
      ]
    },
    {
      "cell_type": "markdown",
      "metadata": {
        "id": "cfCdgK2zXm7e"
      },
      "source": [
        "### **Завдання 1 (2 бали)**\n",
        "\n",
        "Розрахуйте коефієнти розкладу [біному Ньютона](https://uk.wikipedia.org/wiki/%D0%91%D1%96%D0%BD%D0%BE%D0%BC_%D0%9D%D1%8C%D1%8E%D1%82%D0%BE%D0%BD%D0%B0) за допомогою генератора.\n",
        "\n",
        "1. Степінь многочлена користувач має вводити з клавіатури (невід'ємне ціле число).\n",
        "\n",
        "2. Програма має підраховувати біноміальні коефіцієнти для біномів усіх степенів, починаючи від 0 і закінчуючи тим, який ввів користувач.\n",
        "\n",
        "3. Коефіцієнти мають виводитись у вигляді трикутника Паскаля.\n",
        "\n",
        "Наприклад, якщо користувач введе число 5, програма має вивести результат:\n",
        "\n",
        "1\n",
        "\n",
        "1 1\n",
        "\n",
        "1 2 1\n",
        "\n",
        "1 3 3 1\n",
        "\n",
        "1 4 6 4 1\n",
        "\n",
        "1 5 10 10 5 1\n"
      ]
    },
    {
      "cell_type": "code",
      "execution_count": 69,
      "metadata": {
        "id": "Bku8v9CjE_Qc"
      },
      "outputs": [
        {
          "name": "stdout",
          "output_type": "stream",
          "text": [
            "1\n",
            "1 1\n",
            "1 2 1\n",
            "1 3 3 1\n",
            "1 4 6 4 1\n",
            "1 5 10 10 5 1\n"
          ]
        }
      ],
      "source": [
        "from math import factorial\n",
        "\n",
        "\n",
        "class binom:\n",
        "    \n",
        "    @staticmethod\n",
        "    def C(k, n):\n",
        "        return factorial(n) // (factorial(k) * factorial(n-k))\n",
        "\n",
        "    def __init__(self, n):\n",
        "\n",
        "        assert n >= 0 and isinstance(n, int)\n",
        "\n",
        "        self.binoms = []\n",
        "        for i in range(n+1):\n",
        "            result = []\n",
        "            for j in range(i+1):\n",
        "                result.append(binom.C(j, i))\n",
        "            self.binoms.append(result)\n",
        "\n",
        "    def __str__(self):\n",
        "        return '\\n'.join([' '.join([str(j) for j in i]) for i in self.binoms])\n",
        "\n",
        "    def __iter__(self):\n",
        "        return iter(self.binoms)\n",
        "            \n",
        "n = int(input('N: '))\n",
        "\n",
        "print(binom(n))\n",
        "\n"
      ]
    },
    {
      "cell_type": "markdown",
      "metadata": {},
      "source": [
        "### **Завдання 2 (1 бал)**\n",
        "\n",
        "Реалізуйте генератор колоди карт (52 штуки). Кожна карта подається у вигляді рядка типу \"*5 diamonds*\".\n",
        "\n",
        "1. 4 масті (diamonds, clubs, hearts, spades) та 13 значень карт мають зберігатись у двох окремих списках (кортежах).\n",
        "\n",
        "2. Значення від 2 до 10 мають гереруватись за допомогою функції range().\n",
        "\n",
        "3. Окрім чисел, у списку значень мають бути присутніми елементи 'A' (Ace - туз), 'J' (Jack - валет), 'Q' (Queen - дама) та 'K' (King - король).\n",
        "\n",
        "4. Карти мають виводитись у порядку від 'A' до 'K'. Порядок виведення мастей не має значення.\n",
        "\n",
        "    *Приклад:*\n",
        "\n",
        "    А diamonds\n",
        "\n",
        "    2 diamonds\n",
        "\n",
        "    ...\n",
        "\n",
        "    K diamonds\n",
        "\n",
        "    A clubs\n",
        "\n",
        "    ...\n",
        "\n",
        "5. Кожна наступна карта має виводитись за допомогою функції next().\n",
        "\n",
        "6. Виведення карт має завершуватись виключенням StopIteration."
      ]
    },
    {
      "cell_type": "code",
      "execution_count": 67,
      "metadata": {},
      "outputs": [
        {
          "name": "stdout",
          "output_type": "stream",
          "text": [
            "A diamonds\n",
            "2 diamonds\n",
            "3 diamonds\n",
            "4 diamonds\n",
            "5 diamonds\n",
            "6 diamonds\n",
            "7 diamonds\n",
            "8 diamonds\n",
            "9 diamonds\n",
            "10 diamonds\n",
            "J diamonds\n",
            "Q diamonds\n",
            "K diamonds\n",
            "A clubs\n",
            "2 clubs\n",
            "3 clubs\n",
            "4 clubs\n",
            "5 clubs\n",
            "6 clubs\n",
            "7 clubs\n",
            "8 clubs\n",
            "9 clubs\n",
            "10 clubs\n",
            "J clubs\n",
            "Q clubs\n"
          ]
        }
      ],
      "source": [
        "import itertools as itools\n",
        "import random\n",
        "\n",
        "class card:\n",
        "\n",
        "    def __init__(self, suit, num):\n",
        "        self.suit = suit\n",
        "        self.num = num\n",
        "    \n",
        "\n",
        "    def __str__(self):\n",
        "        return f'{self.num} {self.suit}'\n",
        "\n",
        "\n",
        "    @staticmethod\n",
        "    def list_to_cards(lst: list):\n",
        "        result = []\n",
        "        for i in lst:\n",
        "            result.append(\n",
        "                card(i[0], i[1])\n",
        "            )\n",
        "        return result\n",
        "\n",
        "\n",
        "class card_generator:\n",
        "\n",
        "    def __init__(self, count=52, randomize=False):\n",
        "\n",
        "        assert count == 52 or count == 36, 'Incorrect card count'\n",
        "\n",
        "        nums = ['A'] + [*range(count % 10, 11)] + ['J', 'Q', 'K']\n",
        "        suits = ['diamonds', 'clubs', 'hearts', 'spades']\n",
        "\n",
        "        self.available_cards = card.list_to_cards(\n",
        "            itools.product(suits, nums)\n",
        "        )\n",
        "\n",
        "        if randomize: random.shuffle(self.available_cards)\n",
        "\n",
        "\n",
        "    def __iter__(self):\n",
        "        return iter(self.available_cards)\n",
        "\n",
        "\n",
        "    def __next__(self):\n",
        "\n",
        "        if len(self.available_cards) <= 0: raise StopIteration\n",
        "\n",
        "        return self.available_cards.pop(0)\n",
        "\n",
        "\n",
        "    def __len__(self):\n",
        "        return len(self.available_cards)\n",
        "\n",
        "\n",
        "TEST = True\n",
        "if TEST:\n",
        "    generator = card_generator()\n",
        "    \n",
        "    for _ in range(25):\n",
        "        print(next(generator))\n"
      ]
    }
  ],
  "metadata": {
    "colab": {
      "collapsed_sections": [],
      "name": "Practice_10-11_KM_01_.ipynb",
      "provenance": []
    },
    "kernelspec": {
      "display_name": "Python 3",
      "name": "python3"
    },
    "language_info": {
      "codemirror_mode": {
        "name": "ipython",
        "version": 3
      },
      "file_extension": ".py",
      "mimetype": "text/x-python",
      "name": "python",
      "nbconvert_exporter": "python",
      "pygments_lexer": "ipython3",
      "version": "3.9.7"
    }
  },
  "nbformat": 4,
  "nbformat_minor": 0
}
