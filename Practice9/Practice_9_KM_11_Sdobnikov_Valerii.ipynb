{
  "cells": [
    {
      "cell_type": "markdown",
      "metadata": {
        "id": "FMqboNwO4rVs"
      },
      "source": [
        "# **Курс \"Програмування на мові Python\"**"
      ]
    },
    {
      "cell_type": "markdown",
      "metadata": {
        "id": "A2T6MigL5Z06"
      },
      "source": [
        "## **Практичне зайняття №9**\n",
        "\n",
        "### Тема: \"Робота з функціями. Локальні та глобальні змінні\""
      ]
    },
    {
      "cell_type": "markdown",
      "metadata": {
        "id": "cfCdgK2zXm7e"
      },
      "source": [
        "### **Завдання 1 (3 бали)**\n",
        "\n",
        "**Підрахувати визначник матриці, використовуючи правило перестановок.**\n",
        "\n",
        "Функція random_matrix() призначена для створення квадратної матриці випадкових чисел. Її змінювати непотрібно.\n",
        "\n",
        "Приклад використання методу permutations() для створення списку перестановок також подається у комірці з кодом.\n",
        "\n",
        "1) Створити 3 функції: функцію створення списку перестановок, функцію підрахунку добутків та функцію підрахунку загальної суми.\n",
        "\n",
        "2) Кожна функція має супроводжуватись рядком документації, що буде коротко описувати її призначення.\n",
        "\n",
        "3) Розмірність квадратної матриці має вводитись користувачем з клавіатури. Підрахунки виконувати лише в тому разі, якщо користувач введе ціле додатне число.\n",
        "\n",
        "4) Загальний результат повинен підраховуватись за допомогою композиції функцій.\n",
        "\n",
        "За бажанням можна перевірити правильність роботи програми за допомогою функції np.linalg.det(a)."
      ]
    },
    {
      "cell_type": "code",
      "execution_count": 84,
      "metadata": {
        "id": "ifNX2M7LXm7f"
      },
      "outputs": [
        {
          "name": "stdout",
          "output_type": "stream",
          "text": [
            "Matrix:\n",
            "8, 9, 2, 0, 3, 4, 2, 9\n",
            "8, 4, 6, 9, 0, 8, 1, 5\n",
            "2, 0, 4, 4, 8, 9, 4, 0\n",
            "1, 4, 7, 8, 4, 5, 3, 7\n",
            "6, 0, 8, 7, 0, 1, 8, 7\n",
            "3, 4, 4, 7, 4, 5, 8, 4\n",
            "9, 5, 9, 6, 0, 8, 2, 1\n",
            "2, 5, 4, 4, 0, 5, 3, 7\n",
            "\n",
            "Result: -9699437\n",
            "NumPy's reference result: -9699437.0\n"
          ]
        }
      ],
      "source": [
        "import numpy as np\n",
        "import itertools\n",
        "\n",
        "sign = lambda val: 1 if val % 2 == 0 else -1 # Returs a sign based on oddity of a number\n",
        "\n",
        "def inversions_sign(perm: tuple) -> int:\n",
        "    '''\n",
        "    This function return a sign of the count of permutation\n",
        "    '''\n",
        "    count = 0\n",
        "    for i in range(len(perm)):\n",
        "        for j in range(i+1, len(perm)):\n",
        "            if perm[i] > perm[j]:\n",
        "                count += 1\n",
        "    return sign(count)\n",
        "    \n",
        "def random_matrix(dim: int) -> list:\n",
        "    '''\n",
        "    The function generates dim x dim array of integers\n",
        "    between 0 and 10.\n",
        "    '''\n",
        "    matrix = np.random.randint(10, size = (dim, dim))\n",
        "    return matrix\n",
        "\n",
        "def permutations(matrix: list) -> list:\n",
        "    '''\n",
        "    This function returns an array of permutations\n",
        "    in a matrix followed by a sing of inversion\n",
        "    '''\n",
        "    perms = list(itertools.permutations(range(len(matrix)),len(matrix)))\n",
        "    result = []\n",
        "    for i in perms:\n",
        "        perm = []\n",
        "        perm.append(inversions_sign(i))\n",
        "        for j in i:\n",
        "            perm.append(matrix[i.index(j),j])\n",
        "        result.append(perm)\n",
        "    return result\n",
        "\n",
        "def products(perms: list) -> list:\n",
        "    '''\n",
        "    This function returns an array of products of every permutation passed in\n",
        "    '''\n",
        "    result = []\n",
        "    for perm in perms:\n",
        "        prod = perm.pop(0)\n",
        "        for i in perm:\n",
        "            prod *= i\n",
        "        result.append(prod)\n",
        "    return result\n",
        "\n",
        "def sums(products: list) -> int:\n",
        "    '''\n",
        "    This function sums up an array of products\n",
        "    '''\n",
        "    result = 0\n",
        "    for i in products:\n",
        "        result += i\n",
        "    return result\n",
        "\n",
        "\n",
        "def main() -> None:\n",
        "    n = 0\n",
        "    while True:\n",
        "        try:\n",
        "            n = int(input('Enter dimension (n > 0): '))\n",
        "            if not n > 0: raise Exception('Wrong dimensions')\n",
        "            break\n",
        "        except Exception as e:\n",
        "            print(e)\n",
        "            continue\n",
        "        \n",
        "    matrix = random_matrix(n)\n",
        "    print('Matrix:')\n",
        "    for i in matrix:\n",
        "        print(*i, sep=', ')\n",
        "    \n",
        "    det = sums(products(permutations(matrix)))\n",
        "    reference_det = np.linalg.det(matrix)\n",
        "\n",
        "    \n",
        "    print(f'\\nResult: {det}')\n",
        "    print(f'NumPy\\'s reference result: {round(reference_det,3)}')\n",
        "\n",
        "\n",
        "\n",
        "if __name__ == '__main__':\n",
        "    try:\n",
        "        main()\n",
        "    except MemoryError as e:\n",
        "        print('Python can\\'t handle that')\n",
        "\n"
      ]
    }
  ],
  "metadata": {
    "colab": {
      "collapsed_sections": [],
      "name": "Practice_7_KM-01_.ipynb",
      "provenance": []
    },
    "interpreter": {
      "hash": "2be5faf79681da6f2a61fdfdd5405d65d042280f7fba6178067603e3a2925119"
    },
    "kernelspec": {
      "display_name": "Python 3.10.0 64-bit",
      "name": "python3"
    },
    "language_info": {
      "codemirror_mode": {
        "name": "ipython",
        "version": 3
      },
      "file_extension": ".py",
      "mimetype": "text/x-python",
      "name": "python",
      "nbconvert_exporter": "python",
      "pygments_lexer": "ipython3",
      "version": "3.10.0"
    }
  },
  "nbformat": 4,
  "nbformat_minor": 0
}
