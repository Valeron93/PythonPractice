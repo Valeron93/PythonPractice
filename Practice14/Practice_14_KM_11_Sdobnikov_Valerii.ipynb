{
  "cells": [
    {
      "cell_type": "markdown",
      "metadata": {
        "id": "FMqboNwO4rVs"
      },
      "source": [
        "# **Курс \"Програмування на мові Python\"**"
      ]
    },
    {
      "cell_type": "markdown",
      "metadata": {
        "id": "A2T6MigL5Z06"
      },
      "source": [
        "## **Практичне зайняття №14**\n",
        "\n",
        "### Тема: \"Робота зі спеціальними форматами файлів\""
      ]
    },
    {
      "cell_type": "markdown",
      "metadata": {
        "id": "A34oz70eU463"
      },
      "source": [
        "### **Завдання 1 (1,5 бали)**\n",
        "\n",
        "Створіть CSV-файл, що буде містити від 5 до 10 пісень (творів) вашого улюбленого музиканта. Назва файлу - ім'я музиканта (композитора) або назва гурту.\n",
        "\n",
        "1. Обов'язково додайте до файлу рядок з назвами двох колонок (Song, Year) або (Composition, Year).\n",
        "\n",
        "2. Після запису файлу роздрукуйте назву файлу та усі наявні у файлі рядки (включно із заголовками).\n",
        "\n",
        "3. Для запису та зчитування рядків скористайтесь функціями csv.DictWriter() та csv.DictReader()."
      ]
    },
    {
      "cell_type": "code",
      "execution_count": 5,
      "metadata": {
        "id": "MEJIrG1GU463"
      },
      "outputs": [
        {
          "name": "stdout",
          "output_type": "stream",
          "text": [
            "Filename: Mitski.csv\n",
            "Header: ['Song', 'Year']\n",
            "\n",
            "{'Song': 'Brand New City', 'Year': '2012'}\n",
            "{'Song': 'Washing Machine Heart', 'Year': '2018'}\n",
            "{'Song': 'I Will', 'Year': '2014'}\n",
            "{'Song': 'Francis Forever', 'Year': '2014'}\n",
            "{'Song': 'Nobody', 'Year': '2018'}\n"
          ]
        }
      ],
      "source": [
        "import csv\n",
        "\n",
        "FILENAME = 'Mitski.csv'\n",
        "fields = ['Song', 'Year']\n",
        "\n",
        "with open(FILENAME, 'w+') as file:\n",
        "    writer = csv.DictWriter(file, fieldnames=fields)\n",
        "\n",
        "    writer.writeheader()\n",
        "\n",
        "    writer.writerow({'Song': 'Brand New City', 'Year': 2012})\n",
        "    writer.writerow({'Song': 'Washing Machine Heart', 'Year': 2018})\n",
        "    writer.writerow({'Song': 'I Will', 'Year': 2014})\n",
        "    writer.writerow({'Song': 'Francis Forever', 'Year': 2014})\n",
        "    writer.writerow({'Song': 'Nobody', 'Year': 2018})\n",
        "\n",
        "\n",
        "with open(FILENAME, 'r') as file:\n",
        "    reader = csv.DictReader(file)\n",
        "    \n",
        "    print(f'Filename: {file.name}')\n",
        "    print(f'Header: {reader.fieldnames}\\n')\n",
        "\n",
        "    for field in reader:\n",
        "        print(field)\n",
        "\n"
      ]
    },
    {
      "cell_type": "markdown",
      "metadata": {
        "id": "Jb-eSBsWU464"
      },
      "source": [
        "### **Завдання 2 (1,5 бали)**\n",
        "\n",
        "COCO Dataset - набір фотографій та анотацій до них. Його дуже часто використовують для тренування класифікаторів, призначених для розпізнавання об'єктів та визначення ключових точок на зображеннях.\n",
        "\n",
        "Завантажте файли з описом фотографій COCO Dataset за посиланням: [COCO Dataset](http://images.cocodataset.org/annotations/image_info_test2017.zip).\n",
        "\n",
        "Відкрийте файл image_info_test-dev2017.json. Інформація про фотографії з бази COCO міститься у полі \"images\". Інформація про категорії, на які розділені всі фотографії, міститься у полі \"categories\".\n",
        "\n",
        "1. Визначте кількість фотографій, інформацію про які можна знайти у цьому файлі (кількість елементів, що відповідають ключу \"images\").\n",
        "\n",
        "2. Визначте кількість наявних категорій (кількість елементів, що відповідають ключу \"categories\").\n",
        "\n",
        "3. Виведіть посилання на фотографію 000000000001.jpg (\"coco_url\"). Також виведіть висоту цієї фотографії (\"height\"), ширину (\"width\") та її ідентифікатор (\"id\").\n",
        "\n",
        "4. Виведіть назву фотографії з набільшим номером.\n",
        "\n",
        "Опис структури JSON-файлу для набору фотографій COCO можна знайти за посиланням: [Data format](https://cocodataset.org/#format-data).\n",
        "\n",
        "Щоб перевірити правильність результатів, у VS Code встановіть розширення JSON та відкрийте файл image_info_test-dev2017.json. Розширення автоматично визначає кількість елементів у кожному полі."
      ]
    },
    {
      "cell_type": "code",
      "execution_count": 3,
      "metadata": {},
      "outputs": [
        {
          "name": "stdout",
          "output_type": "stream",
          "text": [
            "Count of pictures: 20288\n",
            "Count of categories: 80\n",
            "\n",
            "Filename: 000000000001.jpg\n",
            "\tID: 1\n",
            "\tCOCO URL: http://images.cocodataset.org/test2017/000000000001.jpg\n",
            "\tResolution: 640x480\n",
            "\n",
            "Filename of picture with the largest number: 000000581918.jpg\n"
          ]
        }
      ],
      "source": [
        "import json\n",
        "\n",
        "FILENAME = 'image_info_test-dev2017.json'\n",
        "\n",
        "global data\n",
        "\n",
        "with open(FILENAME, 'r') as file:\n",
        "    data = json.load(file)\n",
        "\n",
        "\n",
        "print(f\"Count of pictures: {len(data['images'])}\")\n",
        "print(f\"Count of categories: {len(data['categories'])}\\n\")\n",
        "\n",
        "for i in data['images']:\n",
        "    if i['file_name'] == '000000000001.jpg':\n",
        "        print(f\"Filename: {i['file_name']}\")\n",
        "        print(f\"\\tID: {i['id']}\")\n",
        "        print(f\"\\tCOCO URL: {i['coco_url']}\")\n",
        "        print(f\"\\tResolution: {i['width']}x{i['height']}\\n\")\n",
        "        break\n",
        "\n",
        "\n",
        "maximum = max(data['images'], key=lambda a: a['id'])\n",
        "\n",
        "print(f\"Filename of picture with the largest number: {maximum['file_name']}\")\n"
      ]
    }
  ],
  "metadata": {
    "colab": {
      "collapsed_sections": [],
      "name": "Practice_14_KM_01.ipynb",
      "provenance": []
    },
    "kernelspec": {
      "display_name": "Python 3",
      "name": "python3"
    },
    "language_info": {
      "codemirror_mode": {
        "name": "ipython",
        "version": 3
      },
      "file_extension": ".py",
      "mimetype": "text/x-python",
      "name": "python",
      "nbconvert_exporter": "python",
      "pygments_lexer": "ipython3",
      "version": "3.9.7"
    }
  },
  "nbformat": 4,
  "nbformat_minor": 0
}
