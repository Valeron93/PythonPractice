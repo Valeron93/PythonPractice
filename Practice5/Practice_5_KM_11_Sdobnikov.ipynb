{
  "nbformat": 4,
  "nbformat_minor": 2,
  "metadata": {
    "colab": {
      "name": "Pranctice_3_KM-01_<name>.ipynb",
      "provenance": [],
      "collapsed_sections": []
    },
    "kernelspec": {
      "name": "python3",
      "display_name": "Python 3.9.7 64-bit"
    },
    "language_info": {
      "name": "python",
      "version": "3.9.7",
      "mimetype": "text/x-python",
      "codemirror_mode": {
        "name": "ipython",
        "version": 3
      },
      "pygments_lexer": "ipython3",
      "nbconvert_exporter": "python",
      "file_extension": ".py"
    },
    "interpreter": {
      "hash": "819b06e74400abf0b22f13ea371a846c8158cddc315410df788716870952f2a6"
    }
  },
  "cells": [
    {
      "cell_type": "markdown",
      "source": [
        "# **Курс \"Програмування на мові Python\"**"
      ],
      "metadata": {
        "id": "1bRxWHr5e8kt"
      }
    },
    {
      "cell_type": "markdown",
      "source": [
        "## **Практичне зайняття №5**\n",
        "### Тема: \"Цикли. Робота зі списками\""
      ],
      "metadata": {
        "id": "buZUwUgFe-kx"
      }
    },
    {
      "cell_type": "markdown",
      "source": [
        "### **Завдання 1 (1,5 бали)**\n",
        "\n"
      ],
      "metadata": {
        "id": "PUkxEn8EfAUe"
      }
    },
    {
      "cell_type": "markdown",
      "source": [
        "Продавець роздрібного товару влаштовує розпродаж. Для всіх товарів знижка однакова - 60%. Щоб вивісити нові цінники, продавець хоче скласти таблицю, в якій для кожного товару буде підрахована його нова вартість та сума знижки.\r\n",
        "\r\n",
        "Написати програму, яка буде генерувати таку таблицю. Вартість одиниць товарів до розпродажу подано у списку products_list. \r\n",
        "\r\n",
        "1. Для підрахунку невідомих значень та їх виведення повинен використовуватись цикл.\r\n",
        "\r\n",
        "2. Вартість з урахуванням знижки та суми знижок для кожного товару повинні зберігатись у двох окремих списках. Порядок товарів у нових списках повинен бути такий самий, як і в списку products_list.\r\n",
        "\r\n",
        "3. Кожне підраховане числове значення має бути округлене до сотих. Для цього слід використати функцію round(). Приклад застосування цієї функції:\r\n",
        "\r\n",
        "```\r\n",
        "value_new = round(2.3741, 2)\r\n",
        "print(value_new)\r\n",
        "```\r\n",
        "\r\n",
        "4. Дані повинні виводитись у вигляді:\r\n",
        "\r\n",
        "**Discount table:**\r\n",
        "\r\n",
        "**29.25 11.7 17.55**\r\n",
        "\r\n",
        "**48.99 19.6 29.39**\r\n",
        "\r\n",
        "**...**\r\n",
        "\r\n",
        "\r\n",
        "products_list = [29.25, 48.99, 99.98, 124.65, 214.30, 543.90, 799.85]"
      ],
      "metadata": {}
    },
    {
      "cell_type": "code",
      "execution_count": 9,
      "source": [
        "products_list = [29.25, 48.99, 99.98, 124.65, 214.30, 543.90, 799.85]\r\n",
        "\r\n",
        "discounted_list = []\r\n",
        "discount_list = []\r\n",
        "\r\n",
        "for i in products_list:\r\n",
        "    discounted_list.append(round(i*0.4,2))\r\n",
        "\r\n",
        "for i in products_list:\r\n",
        "    discount_list.append(round(i*0.6,2))\r\n",
        "\r\n",
        "for i in range(0, len(discounted_list)):\r\n",
        "    print(f'{products_list[i]:8.2f} {discounted_list[i]:8.2f} {discount_list[i]:8.2f}')"
      ],
      "outputs": [
        {
          "output_type": "stream",
          "name": "stdout",
          "text": [
            "   29.25    17.55    11.70\n",
            "   48.99    29.39    19.60\n",
            "   99.98    59.99    39.99\n",
            "  124.65    74.79    49.86\n",
            "  214.30   128.58    85.72\n",
            "  543.90   326.34   217.56\n",
            "  799.85   479.91   319.94\n"
          ]
        }
      ],
      "metadata": {}
    },
    {
      "cell_type": "markdown",
      "source": [
        "### **Завдання 2 (1,5 бали)**"
      ],
      "metadata": {}
    },
    {
      "cell_type": "markdown",
      "source": [
        "Перелічуючи деякі предмети у тексті, ми ставимо між ними коми. В англійській мові слово and зазвичай ставлять між останнім та передостаннім словом у переліку (за виключенням випадку, коли у списку всього одне слово). Також в англійській мові прийнято ставити кому перед and (оксфордська кома), якщо в переліку більше двох найменувань. Розглянемо 4 приклади:\n",
        "\n",
        "**apples**\n",
        "\n",
        "**apples and oranges**\n",
        "\n",
        "**apples, oranges, and bananas**\n",
        "\n",
        "**apples, oranges, bananas, and lemons**\n",
        "\n",
        "Напишіть програму, яка:\n",
        "\n",
        "1. отримує на вхід перелік деяких предметів, які користувач вводить з клавіатури, та записує їх у список у вигляді окремих елементів;\n",
        "\n",
        "2. виводить ці предмети у тій самій послідовності, в якій вони були введені, розставляючи коми та слово and так, як показано у прикладі."
      ],
      "metadata": {
        "id": "4n4p_pz7gFKM"
      }
    },
    {
      "cell_type": "code",
      "execution_count": 16,
      "source": [
        "text = input(\"Введіть щось через пробіл: \")\r\n",
        "text = text.split(' ')\r\n",
        "\r\n",
        "whitespaces = text.count('')\r\n",
        "for i in range(whitespaces):\r\n",
        "    text.remove('')\r\n",
        "\r\n",
        "count = len(text)\r\n",
        "if count == 0:\r\n",
        "    print('Error')\r\n",
        "elif count == 1:\r\n",
        "    print(text[0])\r\n",
        "elif count == 2:\r\n",
        "    print(' and '.join(text))\r\n",
        "else:\r\n",
        "    result = ', '.join(text[0:-1]) + ', and ' + text[-1]\r\n",
        "    print(result)\r\n",
        "\r\n",
        "# the cake is a lie"
      ],
      "outputs": [
        {
          "output_type": "stream",
          "name": "stdout",
          "text": [
            "1, 2, 3, 4, jsadsjd, lkjslkdjklajsl, dkjaslkdjlkj, klsjlakljd, jlkjkls, jkldkljasklj, and dkljakljsdkljakljskdljajkl\n"
          ]
        }
      ],
      "metadata": {
        "id": "Nv66Jkkpf-sI"
      }
    }
  ]
}