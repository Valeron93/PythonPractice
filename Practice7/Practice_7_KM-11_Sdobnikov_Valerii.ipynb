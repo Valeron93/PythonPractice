{
  "cells": [
    {
      "cell_type": "markdown",
      "metadata": {
        "id": "FMqboNwO4rVs"
      },
      "source": [
        "# **Курс \"Програмування на мові Python\"**"
      ]
    },
    {
      "cell_type": "markdown",
      "metadata": {
        "id": "A2T6MigL5Z06"
      },
      "source": [
        "## **Практичне зайняття №7**\n",
        "\n",
        "### Тема: \"Робота з рядками. Глибокі копії об'єктів.\""
      ]
    },
    {
      "cell_type": "markdown",
      "metadata": {},
      "source": [
        "### **Завдання 1 (1 бал)**\n",
        "\n",
        "Створіть рядок формату, що дозволить отримати дані з кортежу format_tuple та вивести рядок:\n",
        "\n",
        "*Euler first used **pi** = **3.14** in his **1736** work **Mechanica**, and continued in his widely-read **1748** work Introductio in analysin infinitorum. In hexadecimal system, **pi** is **0x1.91eb851eb851fp+1**.*\n",
        "\n",
        "У рядку формату мають бути 7 заповнювачів (слово pi повторюється двічі, число 3.1415 також використовується двічі). У методі format() мають бути звернення безпосередньо до елементів кортежу.\n",
        "\n",
        "1. Для округлення значень скористайтесь функцією round().\n",
        "\n",
        "2. Щоб конвертувати число типу float у шістнадцяткову форму, скористайтесь методом float.hex().  Щоб отримати потрібне шістнадцяткове представлення, конвертуйте значення pi, округлене до сотих (https://python-reference.readthedocs.io/en/latest/docs/float/hex.html)."
      ]
    },
    {
      "cell_type": "code",
      "execution_count": 30,
      "metadata": {},
      "outputs": [
        {
          "name": "stdout",
          "output_type": "stream",
          "text": [
            "Euler first used pi = 3.14 in his 1736 work Mechanica and continued in his widely-read 1748 work Introductio in analysin infinitorum. In hexadecimal system, pi is 0x1.91eb851eb851fp+1\n"
          ]
        }
      ],
      "source": [
        "format_tuple = (1736, 3.1415, 'pi', 1748, 'Mechanica')\n",
        "\n",
        "a = 'Euler first used {0} = {1} in his {2} work {3} and continued in his widely-read {4} work Introductio in analysin infinitorum. In hexadecimal system, {5} is {6}'\n",
        "a = a.format(format_tuple[2], round(format_tuple[1], 2), format_tuple[0], format_tuple[4], format_tuple[3], format_tuple[2], float.hex(round(format_tuple[1],2)))\n",
        "print(a)"
      ]
    },
    {
      "cell_type": "markdown",
      "metadata": {},
      "source": [
        "### **Завдання 2 (2 бали)**\n",
        "\n",
        "*RGB (скорочено від англ. Red, Green, Blue — червоний, зелений, синій) — адитивна колірна модель, що описує спосіб синтезу кольору, за якою червоне, зелене та синє світло накладаються разом, змішуючись у різноманітні кольори. У моделі RGB колір кодується градаціями складових каналів (Red, Green, Blue). Кожен канал може набувати цілого значення на інтервалі [0; 255]. Наприклад, (255, 0, 0) - червоний колір, (0, 255, 0) - зелений, (255, 255, 0) - жовтий тощо. Візуалізувати кольори за кодами можна за посиланням:*\n",
        "\n",
        "*https://www.w3schools.com/colors/colors_rgb.asp*\n",
        "\n",
        "*Досить часто, особливо у веб-програмуванні, можна зустріти шістнадцяткове представлення кольорів. Щоб з шістнадцяткового представлення отримати десяткове, потрібно розбити 6 шістнадцяткових значень на 3 групи по 2 значення і конвертувати кожну пару шістнадцяткових значень у десяткові числа.*\n",
        "\n",
        "Написати програму, яка конвертуватиме шістнадцяткове представлення кольору у десятковий формат. Програма має приймати на вхід 6 символів (цифри 0-9 або літери A-F) та конвертувати їх у три цілі числа.\n",
        "\n",
        "1. Програма повинна перевіряти правильність введених користувачем значень. Користувач повинен ввести рівно 6 допустимих символів.\n",
        "\n",
        "2. Під час конвертації чисел з шістнадцяткової у десяткову систему числення *не можна* використовувати вбудованих функцій або функцій сторонніх бібліотек.\n",
        "\n",
        "Покроковий опис процесу конвертації подано за посиланням:\n",
        "\n",
        "https://www.developintelligence.com/blog/2017/02/rgb-to-hex-understanding-the-major-web-color-codes/"
      ]
    },
    {
      "cell_type": "code",
      "execution_count": 38,
      "metadata": {},
      "outputs": [
        {
          "name": "stdout",
          "output_type": "stream",
          "text": [
            "#AAAAAA -> RGB(170, 170, 170)\n"
          ]
        }
      ],
      "source": [
        "import re\n",
        "\n",
        "pattern = re.compile(r'\\b[A-F0-9]{6}\\b')\n",
        "\n",
        "hex_to_decimal = lambda a: int(a[0], base=16)*16 + int(a[1], base=16)\n",
        "\n",
        "color_hex = input('Enter color in hex:').upper().replace(' ', '').replace('#', '')\n",
        "\n",
        "if re.match(pattern, color_hex) and len(color_hex) == 6:\n",
        "    color_rgb = tuple(hex_to_decimal(i) for i in [color_hex[0:2], color_hex[2:4], color_hex[4:6]])\n",
        "    print(f'#{color_hex} -> RGB{color_rgb}')\n",
        "else:\n",
        "    print('whatever you\\'ve just entered is not a color')"
      ]
    }
  ],
  "metadata": {
    "colab": {
      "collapsed_sections": [
        "LyWSBl0DOxJ8",
        "5qzvb1n_va3D",
        "fRXqCrBOmwAX"
      ],
      "name": "Practice_6.ipynb",
      "provenance": []
    },
    "interpreter": {
      "hash": "2be5faf79681da6f2a61fdfdd5405d65d042280f7fba6178067603e3a2925119"
    },
    "kernelspec": {
      "display_name": "Python 3.10.0 64-bit",
      "name": "python3"
    },
    "language_info": {
      "codemirror_mode": {
        "name": "ipython",
        "version": 3
      },
      "file_extension": ".py",
      "mimetype": "text/x-python",
      "name": "python",
      "nbconvert_exporter": "python",
      "pygments_lexer": "ipython3",
      "version": "3.10.0"
    }
  },
  "nbformat": 4,
  "nbformat_minor": 0
}
